{
 "cells": [
  {
   "cell_type": "markdown",
   "id": "ecdf1a6b",
   "metadata": {},
   "source": [
    "## **4. Feature Extraction/ Embedding Function**"
   ]
  },
  {
   "cell_type": "markdown",
   "id": "5fae3b15",
   "metadata": {},
   "source": [
    "4.1 To minimized the loading time of the code, we started a new notebook to apply vectorization."
   ]
  },
  {
   "cell_type": "code",
   "execution_count": 1,
   "id": "02c64bf6",
   "metadata": {},
   "outputs": [],
   "source": [
    "import pandas as pd\n",
    "train_ready = pd.read_csv(\"train_ready.csv\")\n",
    "test_ready = pd.read_csv(\"test_ready.csv\")\n",
    "val_ready  = pd.read_csv(\"validation_ready.csv\")\n",
    "train_proc = train_ready\n",
    "test_proc  = test_ready\n",
    "val_proc   = val_ready"
   ]
  },
  {
   "cell_type": "code",
   "execution_count": 2,
   "id": "ba78f8f7",
   "metadata": {},
   "outputs": [],
   "source": [
    "assert \"text_clean\" in train_proc.columns, \"Expected column 'text_clean' not found\"\n",
    "assert \"label\" in train_proc.columns, \"Expected column 'label' not found\""
   ]
  },
  {
   "cell_type": "code",
   "execution_count": 3,
   "id": "597aab54",
   "metadata": {},
   "outputs": [
    {
     "data": {
      "text/plain": [
       "4956"
      ]
     },
     "execution_count": 3,
     "metadata": {},
     "output_type": "execute_result"
    }
   ],
   "source": [
    "len(val_ready)"
   ]
  },
  {
   "cell_type": "markdown",
   "id": "c5be522e",
   "metadata": {},
   "source": [
    "4.2 I had some \"NaN\" values that NLPs can´t read, therefore, I had to do a clean-up process before the vectorization"
   ]
  },
  {
   "cell_type": "code",
   "execution_count": 5,
   "id": "19c3876d",
   "metadata": {},
   "outputs": [
    {
     "name": "stdout",
     "output_type": "stream",
     "text": [
      "val: dropping 23 empty texts\n",
      "Final sizes: 31401 7845 4933\n"
     ]
    }
   ],
   "source": [
    "\n",
    "def sanitize_split(df, split_name):\n",
    "    # 1) Make sure the column exists\n",
    "    assert \"text_clean\" in df.columns, f\"{split_name}: 'text_clean' column missing\"\n",
    "    assert \"label\" in df.columns, f\"{split_name}: 'label' column missing\"\n",
    "\n",
    "    # 2) Replace NaN with empty string, ensure type is str, and trim\n",
    "    df[\"text_clean\"] = df[\"text_clean\"].fillna(\"\").astype(str).str.strip()\n",
    "\n",
    "    # 3) Option A (recommended): DROP rows that ended up empty after cleaning\n",
    "    empty_mask = (df[\"text_clean\"].str.len() == 0)\n",
    "    n_empty = int(empty_mask.sum())\n",
    "    if n_empty > 0:\n",
    "        print(f\"{split_name}: dropping {n_empty} empty texts\")\n",
    "        df = df.loc[~empty_mask].copy()\n",
    "\n",
    "    # 4) Also drop any rows with missing labels (safety)\n",
    "    n_label_nan = int(df[\"label\"].isna().sum())\n",
    "    if n_label_nan > 0:\n",
    "        print(f\"{split_name}: dropping {n_label_nan} rows with NaN label\")\n",
    "        df = df.loc[~df[\"label\"].isna()].copy()\n",
    "\n",
    "    # 5) Final sanity checks\n",
    "    assert df[\"text_clean\"].isna().sum() == 0, f\"{split_name}: still has NaN in text_clean\"\n",
    "    assert df[\"label\"].isna().sum() == 0, f\"{split_name}: still has NaN in label\"\n",
    "    return df\n",
    "\n",
    "train_proc = sanitize_split(train_proc, \"train\")\n",
    "test_proc  = sanitize_split(test_proc, \"test\")\n",
    "val_proc   = sanitize_split(val_proc, \"val\")\n",
    "\n",
    "print(\"Final sizes:\",\n",
    "      len(train_proc), len(test_proc), len(val_proc))"
   ]
  },
  {
   "cell_type": "markdown",
   "id": "20d409e2",
   "metadata": {},
   "source": [
    "4.3 We´ll first start using TF-IDF vectorization. Where we´ll turned my clean text into numeric feature matrices. "
   ]
  },
  {
   "cell_type": "code",
   "execution_count": 7,
   "id": "405305c4",
   "metadata": {},
   "outputs": [],
   "source": [
    "from sklearn.feature_extraction.text import TfidfVectorizer\n",
    "\n",
    "tfidf = TfidfVectorizer(\n",
    "    ngram_range=(1, 2),\n",
    "    min_df=2,\n",
    "    max_df=0.9,\n",
    "    max_features=50_000,\n",
    "    lowercase=False,\n",
    "    token_pattern=r\"(?u)\\b\\w+\\b\"\n",
    ")\n",
    "\n",
    "X_train = tfidf.fit_transform(train_proc[\"text_clean\"])\n",
    "X_test  = tfidf.transform(test_proc[\"text_clean\"])\n",
    "X_val   = tfidf.transform(val_proc[\"text_clean\"])\n",
    "\n",
    "y_train = train_proc[\"label\"].values\n",
    "y_test  = test_proc[\"label\"].values\n",
    "y_val   = val_proc[\"label\"].values"
   ]
  },
  {
   "cell_type": "markdown",
   "id": "255cbfbd",
   "metadata": {},
   "source": [
    "These matrices are now ready to be classified with the different methods. \n",
    "- **Train** has 31,401 texts\n",
    "- **Test** has 7,845 texts\n",
    "- **Val** has 4,933 texts\n",
    "\n",
    "50k represents the features kept by TF-IDF, which we allocated in the code ourselves"
   ]
  },
  {
   "cell_type": "markdown",
   "id": "b1331967",
   "metadata": {},
   "source": [
    "4.4 From our TF-IDF we´ll choose logistic regression and SVM "
   ]
  },
  {
   "cell_type": "code",
   "execution_count": 8,
   "id": "e7713406",
   "metadata": {},
   "outputs": [
    {
     "name": "stdout",
     "output_type": "stream",
     "text": [
      "              precision    recall  f1-score   support\n",
      "\n",
      "           0     0.9859    0.9802    0.9830      3845\n",
      "           1     0.9811    0.9865    0.9838      4000\n",
      "\n",
      "    accuracy                         0.9834      7845\n",
      "   macro avg     0.9835    0.9834    0.9834      7845\n",
      "weighted avg     0.9834    0.9834    0.9834      7845\n",
      "\n",
      "Accuracy: 0.9834289356277884\n",
      "F1 score: 0.9837945649463974\n"
     ]
    }
   ],
   "source": [
    "from sklearn.linear_model import LogisticRegression\n",
    "from sklearn.metrics import classification_report, accuracy_score, f1_score\n",
    "\n",
    "logreg = LogisticRegression(max_iter=2000, solver=\"saga\", class_weight=\"balanced\", n_jobs=-1)\n",
    "logreg.fit(X_train, y_train)\n",
    "\n",
    "y_pred = logreg.predict(X_test)\n",
    "\n",
    "print(classification_report(y_test, y_pred, digits=4))\n",
    "print(\"Accuracy:\", accuracy_score(y_test, y_pred))\n",
    "print(\"F1 score:\", f1_score(y_test, y_pred))"
   ]
  },
  {
   "cell_type": "markdown",
   "id": "159dc8f9",
   "metadata": {},
   "source": [
    "Overall performance is very good. Accuracy 98%, F1 score 98%. Additionally the classes (0) and (1) are well.\n",
    "\n",
    "*Class 0*\n",
    "- Precision: 98.59% → When the model predicts class 0, it’s correct ~99% of the time.\n",
    "- Recall: 98.02% → It catches ~98% of all actual class 0 cases.\n",
    "\n",
    "\n",
    "*Class 1*\n",
    "- Precision: 98.11% → Slightly lower than class 0, but still excellent.\n",
    "- Recall: 98.65% → Very high, meaning very few class 1 examples are missed."
   ]
  },
  {
   "cell_type": "code",
   "execution_count": 9,
   "id": "ce540ecc",
   "metadata": {},
   "outputs": [
    {
     "name": "stdout",
     "output_type": "stream",
     "text": [
      "\n",
      "=== Linear SVM (TF-IDF) ===\n",
      "              precision    recall  f1-score   support\n",
      "\n",
      "           0     0.9940    0.9943    0.9941      3845\n",
      "           1     0.9945    0.9942    0.9944      4000\n",
      "\n",
      "    accuracy                         0.9943      7845\n",
      "   macro avg     0.9943    0.9943    0.9943      7845\n",
      "weighted avg     0.9943    0.9943    0.9943      7845\n",
      "\n",
      "Test accuracy: 0.9943 | F1: 0.9944\n"
     ]
    }
   ],
   "source": [
    "from sklearn.svm import LinearSVC\n",
    "\n",
    "svm = LinearSVC()\n",
    "svm.fit(X_train, y_train)\n",
    "\n",
    "pred_svm = svm.predict(X_test)\n",
    "print(\"\\n=== Linear SVM (TF-IDF) ===\")\n",
    "print(classification_report(y_test, pred_svm, digits=4))\n",
    "acc_svm = accuracy_score(y_test, pred_svm)\n",
    "f1_svm  = f1_score(y_test, pred_svm)\n",
    "print(f\"Test accuracy: {acc_svm:.4f} | F1: {f1_svm:.4f}\")"
   ]
  },
  {
   "cell_type": "markdown",
   "id": "8907c971",
   "metadata": {},
   "source": [
    "- Accuracy: 99.43% — Almost perfect classification on the test set.\n",
    "- F1-score: 0.9944 — Extremely high, meaning the model is both precise and has excellent rec"
   ]
  },
  {
   "cell_type": "markdown",
   "id": "e5ef5844",
   "metadata": {},
   "source": [
    "4.4 Evaluating the models Logistic Regression and SVM (Confusion Matrix)"
   ]
  },
  {
   "cell_type": "code",
   "execution_count": 10,
   "id": "34d7ae44",
   "metadata": {},
   "outputs": [
    {
     "name": "stdout",
     "output_type": "stream",
     "text": [
      "=== Logistic Regression ===\n",
      "              precision    recall  f1-score   support\n",
      "\n",
      "           0     0.9859    0.9802    0.9830      3845\n",
      "           1     0.9811    0.9865    0.9838      4000\n",
      "\n",
      "    accuracy                         0.9834      7845\n",
      "   macro avg     0.9835    0.9834    0.9834      7845\n",
      "weighted avg     0.9834    0.9834    0.9834      7845\n",
      "\n",
      "\n",
      "=== Linear SVM ===\n",
      "              precision    recall  f1-score   support\n",
      "\n",
      "           0     0.9940    0.9943    0.9941      3845\n",
      "           1     0.9945    0.9942    0.9944      4000\n",
      "\n",
      "    accuracy                         0.9943      7845\n",
      "   macro avg     0.9943    0.9943    0.9943      7845\n",
      "weighted avg     0.9943    0.9943    0.9943      7845\n",
      "\n"
     ]
    },
    {
     "data": {
      "image/png": "[encoded data removed]",
      "text/plain": [
       "<Figure size 1200x500 with 2 Axes>"
      ]
     },
     "metadata": {},
     "output_type": "display_data"
    }
   ],
   "source": [
    "import matplotlib.pyplot as plt\n",
    "from sklearn.metrics import classification_report, confusion_matrix, ConfusionMatrixDisplay\n",
    "from sklearn.linear_model import LogisticRegression\n",
    "from sklearn.svm import LinearSVC\n",
    "\n",
    "# --- Train Logistic Regression ---\n",
    "logreg = LogisticRegression(max_iter=2000, solver=\"saga\", class_weight=\"balanced\", n_jobs=-1)\n",
    "logreg.fit(X_train, y_train)\n",
    "y_pred_lr = logreg.predict(X_test)\n",
    "\n",
    "# --- Train Linear SVM ---\n",
    "svm_model = LinearSVC(class_weight=\"balanced\")\n",
    "svm_model.fit(X_train, y_train)\n",
    "y_pred_svm = svm_model.predict(X_test)\n",
    "\n",
    "# --- Print Classification Reports ---\n",
    "print(\"=== Logistic Regression ===\")\n",
    "print(classification_report(y_test, y_pred_lr, digits=4))\n",
    "print(\"\\n=== Linear SVM ===\")\n",
    "print(classification_report(y_test, y_pred_svm, digits=4))\n",
    "\n",
    "# --- Prepare Confusion Matrices ---\n",
    "cm_lr = confusion_matrix(y_test, y_pred_lr)\n",
    "cm_svm = confusion_matrix(y_test, y_pred_svm)\n",
    "\n",
    "# --- Plot Side-by-Side ---\n",
    "fig, axes = plt.subplots(1, 2, figsize=(12, 5))\n",
    "\n",
    "disp_lr = ConfusionMatrixDisplay(confusion_matrix=cm_lr, display_labels=logreg.classes_)\n",
    "disp_lr.plot(cmap='Blues', ax=axes[0], colorbar=False)\n",
    "axes[0].set_title(\"Logistic Regression (TF-IDF)\")\n",
    "\n",
    "disp_svm = ConfusionMatrixDisplay(confusion_matrix=cm_svm, display_labels=svm_model.classes_)\n",
    "disp_svm.plot(cmap='Greens', ax=axes[1], colorbar=False)\n",
    "axes[1].set_title(\"Linear SVM (TF-IDF)\")\n",
    "\n",
    "plt.tight_layout()\n",
    "plt.show()"
   ]
  },
  {
   "cell_type": "markdown",
   "id": "b0933cf1",
   "metadata": {},
   "source": [
    "Looking at both confusion matrix, we can see that both models are performing very well 98% accuracy on both. Interesting aspect is that SVM, wins as it has lower false negatives. "
   ]
  },
  {
   "cell_type": "markdown",
   "id": "4ab0c0a6",
   "metadata": {},
   "source": [
    "4.5 Representation of metrics with Comparison Bar Plot"
   ]
  },
  {
   "cell_type": "code",
   "execution_count": 11,
   "id": "e28ffebf",
   "metadata": {},
   "outputs": [
    {
     "data": {
      "image/png": "[encoded data removed]",
      "text/plain": [
       "<Figure size 800x500 with 1 Axes>"
      ]
     },
     "metadata": {},
     "output_type": "display_data"
    }
   ],
   "source": [
    "from sklearn.metrics import precision_score, recall_score, f1_score, accuracy_score\n",
    "\n",
    "metrics = {\n",
    "    'Model': ['Logistic Regression', 'SVM'],\n",
    "    'Accuracy': [accuracy_score(y_test, y_pred_lr), accuracy_score(y_test, y_pred_svm)],\n",
    "    'Precision': [precision_score(y_test, y_pred_lr), precision_score(y_test, y_pred_svm)],\n",
    "    'Recall': [recall_score(y_test, y_pred_lr), recall_score(y_test, y_pred_svm)],\n",
    "    'F1 Score': [f1_score(y_test, y_pred_lr), f1_score(y_test, y_pred_svm)]\n",
    "}\n",
    "\n",
    "df_metrics = pd.DataFrame(metrics).set_index('Model')\n",
    "df_metrics.plot(kind='bar', figsize=(8,5))\n",
    "plt.title(\"Model Performance Comparison\")\n",
    "plt.ylabel(\"Score\")\n",
    "plt.ylim(0.95, 1.0)\n",
    "plt.legend(loc='lower right')\n",
    "plt.show()"
   ]
  },
  {
   "cell_type": "markdown",
   "id": "eaa2320c",
   "metadata": {},
   "source": [
    "SVM outpefroms in Accuracy, precision, recall and F1 Score. "
   ]
  },
  {
   "cell_type": "markdown",
   "id": "8272f1e8",
   "metadata": {},
   "source": [
    "4.6 Saving the Vectorizer"
   ]
  },
  {
   "cell_type": "code",
   "execution_count": 14,
   "id": "5bf832e8",
   "metadata": {},
   "outputs": [
    {
     "data": {
      "text/plain": [
       "['tfidf_vectorizer.pkl']"
      ]
     },
     "execution_count": 14,
     "metadata": {},
     "output_type": "execute_result"
    }
   ],
   "source": [
    "import joblib\n",
    "joblib.dump(tfidf, \"tfidf_vectorizer.pkl\")"
   ]
  },
  {
   "cell_type": "markdown",
   "id": "6206762f",
   "metadata": {},
   "source": [
    "4.6 Saving the model"
   ]
  },
  {
   "cell_type": "code",
   "execution_count": 15,
   "id": "5d941d15",
   "metadata": {},
   "outputs": [
    {
     "name": "stdout",
     "output_type": "stream",
     "text": [
      "Models saved successfully!\n"
     ]
    }
   ],
   "source": [
    "import joblib\n",
    "\n",
    "joblib.dump(logreg, \"logistic_regression_tfidf.pkl\")\n",
    "joblib.dump(svm_model, \"svm_tfidf.pkl\")\n",
    "\n",
    "print(\"Models saved successfully!\")"
   ]
  }
 ],
 "metadata": {
  "kernelspec": {
   "display_name": "IronHack1",
   "language": "python",
   "name": "python3"
  },
  "language_info": {
   "codemirror_mode": {
    "name": "ipython",
    "version": 3
   },
   "file_extension": ".py",
   "mimetype": "text/x-python",
   "name": "python",
   "nbconvert_exporter": "python",
   "pygments_lexer": "ipython3",
   "version": "3.10.13"
  }
 },
 "nbformat": 4,
 "nbformat_minor": 5
}
